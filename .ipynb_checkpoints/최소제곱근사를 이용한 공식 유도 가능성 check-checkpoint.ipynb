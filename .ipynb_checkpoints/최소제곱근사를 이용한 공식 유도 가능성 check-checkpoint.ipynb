{
 "cells": [
  {
   "cell_type": "code",
   "execution_count": 2,
   "metadata": {},
   "outputs": [],
   "source": [
    "import numpy as np\n",
    "# 이 프로젝트의 목적은 캠으로 인식된 "
   ]
  },
  {
   "cell_type": "code",
   "execution_count": 4,
   "metadata": {},
   "outputs": [
    {
     "name": "stdout",
     "output_type": "stream",
     "text": [
      "[[19 22]\n",
      " [43 50]]\n",
      "[[1 4]\n",
      " [2 5]\n",
      " [3 6]]\n"
     ]
    }
   ],
   "source": [
    "#행렬 곱\n",
    "a = np.array([[1,2],\n",
    "              [3,4]])\n",
    "b = np.array([[5,6],\n",
    "              [7,8]])\n",
    " \n",
    "c = np.dot(a,b) # 행렬 곱은 dot로 가능하다.\n",
    "\n",
    "print(c)\n",
    "#행렬 전치\n",
    "A = np.array([[1, 2, 3], [4, 5, 6]])\n",
    "print(A.transpose())\n"
   ]
  },
  {
   "cell_type": "markdown",
   "metadata": {},
   "source": [
    "3차원 eye tracker에서 우리가 측정할 것은 캠 위에서의 흰색 부분의 xyz 좌표 변화이다.<br>\n",
    "내가 보고있는 곳과, 캠에서 측정된 상대적 좌표 두 변수간의 상대적관계가 있는지 최소제곱정리를 통해 확인해본다.<br>\n",
    "\n",
    "x_l = 컴퓨터 화면으로 인식된, 왼쪽 눈의 x 좌표이다.<br>\n",
    "y_l = 컴퓨터 화면으로 인식된, 왼쪽 눈의 y좌표이다.<br>\n",
    "x_r = 컴퓨터 화면으로 인식된, 오른쪽 눈의 x좌표이다<br>\n",
    "y_r = 컴퓨터 화면으로 인식된, 오른쪽 눈의 y좌표이다.<br>\n",
    "\n",
    "내가 보고 있는 곳의 좌표를 내 턱 아래를 기준으로, vec{x,y,z}만큼 떨어져있다.<br>\n",
    "\n",
    "내가 직접 보고 있는 곳의 좌표의 성분과, 컴퓨터에 인식된 자료들의 어떤 관계가 있는지 최소 제곱정리를 통해 알아본다.<br>\n",
    "x_l,y_l,x_r,y_r 가 독립적인 성분으로 이루어져 있다고 가정하고, <br>\n",
    "\n",
    "1.<br>\n",
    "a_1(x_l) + b_1(y_l) + c_1(x_r) + d_1(y_r) = vec{x}<br>\n",
    "2.<br>\n",
    "a_2(x_l) + b_2(y_l) + c_2(x_r) + d_2(y_r) = vec{y}<br>\n",
    "3.<br>\n",
    "a_3(x_l) + b_3(y_l) + c_3(x_r) + d_3(y_r) = vec{z}<br>\n",
    "\n",
    "위의 세 식의 a,b,c,d의 값을 각각 최소제곱근사를 통해 구해본다.\n"
   ]
  },
  {
   "cell_type": "code",
   "execution_count": null,
   "metadata": {},
   "outputs": [],
   "source": [
    "#import 옆의 파일에서 x_l,y_l,x_r,y_r을 list형태로 가져옴, 상대 좌표를 활용해서 새로운 저장 파일 문서를 가지고 옴,\n",
    "\n",
    "##n초 동안 한 지점을 바라본 후, 다음 값의 평균을 내어 기록한다. 0.3frame이기 때문에, 1초만 찍어도 데이터가 3개 나옴"
   ]
  },
  {
   "cell_type": "code",
   "execution_count": null,
   "metadata": {},
   "outputs": [],
   "source": [
    "while True:\n",
    "    \n",
    "    "
   ]
  },
  {
   "cell_type": "markdown",
   "metadata": {},
   "source": [
    "우리가 검증할 위치는 크게\n",
    "\n",
    "(내 가슴 중심을 기준으로),  <25 * 25 * 25>의 공간에서 5cm 간격으로, 약 3000개의 실험을 진행하고 기록한다.\n",
    "안 되면 더 줄여야지\n",
    "\n",
    "위의 선형"
   ]
  },
  {
   "cell_type": "code",
   "execution_count": null,
   "metadata": {},
   "outputs": [],
   "source": [
    "# matplotlib를 이용한 데이터 분석\n",
    "import matplotlib\n",
    "matplotlib"
   ]
  },
  {
   "cell_type": "code",
   "execution_count": null,
   "metadata": {},
   "outputs": [],
   "source": []
  },
  {
   "cell_type": "code",
   "execution_count": null,
   "metadata": {},
   "outputs": [],
   "source": [
    "#import 3개씩 list 보내는 함수\n",
    "#이거는 3개씩 보낸 데이터를 정리해서 하나씩 저장하는 것, computerValue랑 realValue랑 1개씩 저장함\n",
    "#평균내지 말고 기록만하자\n",
    "\n",
    "import random\n",
    "\n",
    "fileComputer = open(\"dataFile/computerValue.txt\",\"w\")\n",
    "fileComputer.write(\"\"\" #3개의 데이터를 입력받고, 다음 값의 평균을 내어 기록한다.\\n #DATA1, 2, 3 => AVERAGE\"\"\")\n",
    "\n",
    "aid=[]\n",
    "while True:\n",
    "    #test\n",
    "    for k in range(3):\n",
    "        u = random.randint(0,20)\n",
    "        aid.append(u)\n",
    "    print(aid)\n",
    "    #지금은 test니깐 list 3개 그냥 줌\n",
    "    \n",
    "    fileComputer.write(f\"\\n {aid}\")\n",
    "    aid.clear()\n",
    "    key = input()\n",
    "    \n",
    "    if key == '7':\n",
    "        break\n",
    "    else:\n",
    "        None\n",
    "        #아까 친 값이 realvalue에 저장됨\n",
    "        \n",
    "while True:\n",
    "    #이건 데이터 얻는 거라서 수동으로 해야할 듯, 그냥 규칙성있게 하는게 좋을 듯.\n",
    "    None\n",
    "fileComputer.close()\n"
   ]
  },
  {
   "cell_type": "code",
   "execution_count": 21,
   "metadata": {},
   "outputs": [
    {
     "name": "stdout",
     "output_type": "stream",
     "text": [
      "[10, 9, 7]\n",
      "[10, 9, 7]\n",
      "[10, 9, 7]\n",
      "[10, 9, 7]\n"
     ]
    }
   ],
   "source": [
    "#최소제곱근사\n",
    "with open(\"dataFile/realValue.txt\",'r') as real:\n",
    "    with  open(\"dataFile/computerValue.txt\",\"r\") as computer:\n",
    "        \n",
    "        #x의 최소제곱근사를 구함. 우선 각각을 행렬로 만들어 보자,  list in list형태\n",
    "        \n",
    "        a = []\n",
    "        for _ in computer:\n",
    "            u = computer.readline()\n",
    "            if u == \"#\": continue\n",
    "            print(k.strip())\n",
    "            #strip은 뒤에다 쓰는거임"
   ]
  }
 ],
 "metadata": {
  "kernelspec": {
   "display_name": "Python 3",
   "language": "python",
   "name": "python3"
  },
  "language_info": {
   "codemirror_mode": {
    "name": "ipython",
    "version": 3
   },
   "file_extension": ".py",
   "mimetype": "text/x-python",
   "name": "python",
   "nbconvert_exporter": "python",
   "pygments_lexer": "ipython3",
   "version": "3.7.4"
  }
 },
 "nbformat": 4,
 "nbformat_minor": 2
}
