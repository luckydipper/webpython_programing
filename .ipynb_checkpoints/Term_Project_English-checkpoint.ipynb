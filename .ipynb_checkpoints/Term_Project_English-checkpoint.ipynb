{
 "cells": [
  {
   "cell_type": "markdown",
   "metadata": {},
   "source": [
    "# Term Project "
   ]
  },
  {
   "cell_type": "markdown",
   "metadata": {},
   "source": [
    "In this lesson we learned about the Python language itself. <br>\n",
    "Over the next four weeks, you will use Python to run the Term Project, which will directly \"get and analyze information on the Internet.\" <br>\n",
    "\n",
    "You need to get and analyze information about your interests on the Internet by the end of the semester.\n",
    "By the end of the 15th week, you have to use the Python language to find the information you are looking for directly on the Internet and analyze the information.\n",
    "The table of contents of Term Project is fixed as follows, and the submission form of Term Project can be freely created and submitted as Jupyter notebook file. <br>\n",
    "\n",
    "(1) Topic Reason for Selection: List the reasons why you selected this topic (field) <br>\n",
    "(2) Definition of hypothesis: Explain the proposition to prove through the term project or the logic to be revealed.\n",
    "(3) Data Acquisition via the Internet: To elaborate the above proposition / logic, I list specifically how and where I acquired data (using the Python language).\n",
    "(4) Processing Data for Analysis: Describes how information was processed / extracted using Pyhton language <br>\n",
    "(5) Derive the analysis result: Describes whether the mathematical or logical method is implemented using the Python language.\n",
    "(6) Conclusion: Whether or not the proposition / logic defined above is proved / verified and it is described in detail.\n",
    "(7) References: Lists the data, Internet information, papers, books, etc. acquired for the above work.\n",
    "(8) Attachment: Acquired data source of (3) <br>\n",
    "(9) Appendix: Processed data source of (4) <br>\n",
    "(10) Attachment: Python source code developed for the work of (3) and (4) <br>\n",
    "\n",
    "The submitted Term Project will be posted on the website and referenced by the necessary person. <br>\n",
    "In addition, it is prohibited to submit similar work through Internet / blog / book as it is, and when it is detected, the whole score of this course is treated as zero point.\n",
    "Checking the source of the TA through Internet search, <br> <br>\n",
    "In particular, I will provide incentives to the informant if it is reported that the other materials have been submitted intact through the open term project, so please concentrate on improving your ability."
   ]
  },
  {
   "cell_type": "markdown",
   "metadata": {},
   "source": [
    "# References"
   ]
  },
  {
   "cell_type": "markdown",
   "metadata": {},
   "source": [
    "## Open APIs in Korea"
   ]
  },
  {
   "cell_type": "markdown",
   "metadata": {},
   "source": [
    "- Korea Goverment Open API : http://www.data.go.kr/\n",
    "\n",
    "\n",
    "- Seoul Open API : http://data.seoul.go.kr/"
   ]
  },
  {
   "cell_type": "markdown",
   "metadata": {},
   "source": [
    "## Open APIs for SNS"
   ]
  },
  {
   "cell_type": "markdown",
   "metadata": {},
   "source": [
    "- Naver : https://developers.naver.com/docs/common/openapiguide/\n",
    "\n",
    "\n",
    "- Facebook : https://facebook-sdk.readthedocs.io/en/latest/\n",
    "\n",
    "\n",
    "- Twitter : https://developer.twitter.com/en/docs/developer-utilities/twitter-libraries.html\n",
    "\n",
    "\n",
    "- Instagram : https://www.instagram.com/developer/libraries/"
   ]
  },
  {
   "cell_type": "markdown",
   "metadata": {},
   "source": [
    "## Data Analysis Tools using Python"
   ]
  },
  {
   "cell_type": "markdown",
   "metadata": {},
   "source": [
    "- Pandas : https://pandas.pydata.org/ <br>\n",
    "\n",
    "\n",
    "- Tensoflow : https://www.tensorflow.org/?hl=ko <br>"
   ]
  }
 ],
 "metadata": {
  "kernelspec": {
   "display_name": "Python 3",
   "language": "python",
   "name": "python3"
  },
  "language_info": {
   "codemirror_mode": {
    "name": "ipython",
    "version": 3
   },
   "file_extension": ".py",
   "mimetype": "text/x-python",
   "name": "python",
   "nbconvert_exporter": "python",
   "pygments_lexer": "ipython3",
   "version": "3.7.4"
  }
 },
 "nbformat": 4,
 "nbformat_minor": 2
}
