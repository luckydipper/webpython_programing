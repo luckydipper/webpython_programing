{
 "cells": [
  {
   "cell_type": "markdown",
   "metadata": {},
   "source": [
    "TensorFlow Object Detection API GitHub Page\n",
    "위의 것을 사용할 것임\n",
    "tensorflow\n"
   ]
  },
  {
   "cell_type": "code",
   "execution_count": 16,
   "metadata": {},
   "outputs": [
    {
     "name": "stdout",
     "output_type": "stream",
     "text": [
      "{\"info\":{\"size\":{\"width\":1920,\"height\":1080},\"faceCount\":1},\"faces\":[{\"roi\":{\"x\":818,\"y\":402,\"width\":374,\"height\":374},\"landmark\":{\"leftEye\":{\"x\":912,\"y\":468},\"rightEye\":{\"x\":1091,\"y\":481},\"nose\":{\"x\":994,\"y\":556},\"leftMouth\":{\"x\":907,\"y\":666},\"rightMouth\":{\"x\":1054,\"y\":684}},\"gender\":{\"value\":\"male\",\"confidence\":0.978545},\"age\":{\"value\":\"23~27\",\"confidence\":0.631722},\"emotion\":{\"value\":\"neutral\",\"confidence\":0.663812},\"pose\":{\"value\":\"frontal_face\",\"confidence\":0.999849}}]}\n"
     ]
    }
   ],
   "source": [
    "import os\n",
    "import sys\n",
    "import requests\n",
    "client_id = \"Oiv30WKES7L7y2nUnf5f\"\n",
    "client_secret = \"vmTrnHOcp3\"\n",
    "url = \"https://openapi.naver.com/v1/vision/face\"\n",
    "for k in range(1,2):\n",
    "    files = {'image': open(f'{k}.jpg', 'rb')} #dictionary\n",
    "    headers = {'X-Naver-Client-Id': client_id, 'X-Naver-Client-Secret': client_secret }\n",
    "    response = requests.post(url,  files=files, headers=headers)\n",
    "    rescode = response.status_code\n",
    "    if(rescode==200):\n",
    "        print (response.text)\n",
    "    else:\n",
    "        print(\"Error Code:\" + rescode)"
   ]
  },
  {
   "cell_type": "code",
   "execution_count": null,
   "metadata": {},
   "outputs": [],
   "source": [
    "아이고?"
   ]
  },
  {
   "cell_type": "code",
   "execution_count": 7,
   "metadata": {},
   "outputs": [
    {
     "name": "stdout",
     "output_type": "stream",
     "text": [
      "{\"info\":{\"size\":{\"width\":1280,\"height\":720},\"faceCount\":4},\"faces\":[{\"roi\":{\"x\":1107,\"y\":40,\"width\":53,\"height\":53},\"landmark\":{\"leftEye\":{\"x\":1121,\"y\":49},\"rightEye\":{\"x\":1150,\"y\":49},\"nose\":{\"x\":1138,\"y\":62},\"leftMouth\":{\"x\":1127,\"y\":77},\"rightMouth\":{\"x\":1144,\"y\":78}},\"gender\":{\"value\":\"male\",\"confidence\":0.999889},\"age\":{\"value\":\"32~36\",\"confidence\":0.41305},\"emotion\":{\"value\":\"talking\",\"confidence\":0.99382},\"pose\":{\"value\":\"frontal_face\",\"confidence\":0.975188}},{\"roi\":{\"x\":449,\"y\":61,\"width\":59,\"height\":59},\"landmark\":{\"leftEye\":{\"x\":465,\"y\":76},\"rightEye\":{\"x\":490,\"y\":76},\"nose\":{\"x\":479,\"y\":92},\"leftMouth\":{\"x\":469,\"y\":105},\"rightMouth\":{\"x\":491,\"y\":102}},\"gender\":{\"value\":\"male\",\"confidence\":0.999217},\"age\":{\"value\":\"57~61\",\"confidence\":0.0196602},\"emotion\":{\"value\":\"neutral\",\"confidence\":0.575346},\"pose\":{\"value\":\"frontal_face\",\"confidence\":0.993738}},{\"roi\":{\"x\":127,\"y\":43,\"width\":50,\"height\":50},\"landmark\":{\"leftEye\":{\"x\":142,\"y\":54},\"rightEye\":{\"x\":165,\"y\":58},\"nose\":{\"x\":151,\"y\":66},\"leftMouth\":{\"x\":139,\"y\":81},\"rightMouth\":{\"x\":161,\"y\":83}},\"gender\":{\"value\":\"female\",\"confidence\":0.999914},\"age\":{\"value\":\"31~35\",\"confidence\":0.0420587},\"emotion\":{\"value\":\"laugh\",\"confidence\":0.99996},\"pose\":{\"value\":\"frontal_face\",\"confidence\":0.997755}},{\"roi\":{\"x\":756,\"y\":58,\"width\":56,\"height\":56},\"landmark\":{\"leftEye\":{\"x\":770,\"y\":69},\"rightEye\":{\"x\":794,\"y\":71},\"nose\":{\"x\":776,\"y\":83},\"leftMouth\":{\"x\":770,\"y\":97},\"rightMouth\":{\"x\":788,\"y\":98}},\"gender\":{\"value\":\"female\",\"confidence\":0.997616},\"age\":{\"value\":\"45~49\",\"confidence\":0.185512},\"emotion\":{\"value\":\"neutral\",\"confidence\":0.746296},\"pose\":{\"value\":\"frontal_face\",\"confidence\":0.565592}}]}\n"
     ]
    }
   ],
   "source": [
    "import os\n",
    "import sys\n",
    "import requests\n",
    "client_id = \"Oiv30WKES7L7y2nUnf5f\"\n",
    "client_secret = \"vmTrnHOcp3\"\n",
    "url = \"https://openapi.naver.com/v1/vision/face\"\n",
    "files = {'image': open('2013.jpg', 'rb')} #dictionary\n",
    "\n",
    "headers = {'X-Naver-Client-Id': client_id, 'X-Naver-Client-Secret': client_secret }\n",
    "response = requests.post(url,  files=files, headers=headers)\n",
    "rescode = response.status_code\n",
    "if(rescode==200):\n",
    "    print (response.text)\n",
    "else:\n",
    "    print(\"Error Code:\" + rescode)"
   ]
  }
 ],
 "metadata": {
  "kernelspec": {
   "display_name": "Python 3",
   "language": "python",
   "name": "python3"
  },
  "language_info": {
   "codemirror_mode": {
    "name": "ipython",
    "version": 3
   },
   "file_extension": ".py",
   "mimetype": "text/x-python",
   "name": "python",
   "nbconvert_exporter": "python",
   "pygments_lexer": "ipython3",
   "version": "3.7.4"
  }
 },
 "nbformat": 4,
 "nbformat_minor": 2
}
